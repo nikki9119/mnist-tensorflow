{
 "cells": [
  {
   "cell_type": "markdown",
   "id": "spread-mileage",
   "metadata": {},
   "source": [
    "# mnist-tensorfow"
   ]
  },
  {
   "cell_type": "code",
   "execution_count": 1,
   "id": "local-boxing",
   "metadata": {},
   "outputs": [],
   "source": [
    "import tensorflow as tf\n",
    "\n",
    "mnist = tf.keras.datasets.mnist"
   ]
  },
  {
   "cell_type": "code",
   "execution_count": 2,
   "id": "about-cinema",
   "metadata": {},
   "outputs": [],
   "source": [
    "(x_train,y_train),(x_test,y_test) = mnist.load_data()"
   ]
  },
  {
   "cell_type": "code",
   "execution_count": 3,
   "id": "separated-performer",
   "metadata": {},
   "outputs": [
    {
     "data": {
      "text/plain": [
       "<matplotlib.image.AxesImage at 0x1f97a7ac4f0>"
      ]
     },
     "execution_count": 3,
     "metadata": {},
     "output_type": "execute_result"
    },
    {
     "data": {
      "image/png": "[encoded data removed]",
      "text/plain": [
       "<Figure size 432x288 with 1 Axes>"
      ]
     },
     "metadata": {
      "needs_background": "light"
     },
     "output_type": "display_data"
    }
   ],
   "source": [
    "import matplotlib.pyplot as plt\n",
    "import random\n",
    "plt.imshow(random.choice(x_train),cmap = plt.cm.binary)"
   ]
  },
  {
   "cell_type": "markdown",
   "id": "italic-attack",
   "metadata": {},
   "source": [
    "## Normalize data"
   ]
  },
  {
   "cell_type": "code",
   "execution_count": 4,
   "id": "tested-collaboration",
   "metadata": {},
   "outputs": [],
   "source": [
    "x_train = tf.keras.utils.normalize(x_train,axis=1)\n",
    "x_test = tf.keras.utils.normalize(x_test,axis=1)"
   ]
  },
  {
   "cell_type": "markdown",
   "id": "stupid-condition",
   "metadata": {},
   "source": [
    "## Build the Model"
   ]
  },
  {
   "cell_type": "code",
   "execution_count": 5,
   "id": "special-figure",
   "metadata": {},
   "outputs": [],
   "source": [
    "model = tf.keras.models.Sequential()\n",
    "model.add(tf.keras.layers.Flatten())\n",
    "model.add(tf.keras.layers.Dense(128,activation = tf.nn.relu))\n",
    "model.add(tf.keras.layers.Dense(128,activation = tf.nn.relu))\n",
    "model.add(tf.keras.layers.Dense(10,activation = tf.nn.softmax))"
   ]
  },
  {
   "cell_type": "code",
   "execution_count": 6,
   "id": "dense-salvation",
   "metadata": {},
   "outputs": [],
   "source": [
    "model.compile(optimizer = 'adam',\n",
    "             loss = 'sparse_categorical_crossentropy',\n",
    "             metrics = ['accuracy'])"
   ]
  },
  {
   "cell_type": "code",
   "execution_count": 7,
   "id": "surgical-athens",
   "metadata": {},
   "outputs": [
    {
     "name": "stdout",
     "output_type": "stream",
     "text": [
      "Epoch 1/3\n",
      "1875/1875 [==============================] - 10s 5ms/step - loss: 0.4757 - accuracy: 0.8616\n",
      "Epoch 2/3\n",
      "1875/1875 [==============================] - 6s 3ms/step - loss: 0.1141 - accuracy: 0.9653\n",
      "Epoch 3/3\n",
      "1875/1875 [==============================] - 6s 3ms/step - loss: 0.0715 - accuracy: 0.9777\n"
     ]
    },
    {
     "data": {
      "text/plain": [
       "<tensorflow.python.keras.callbacks.History at 0x1f97e8c2c10>"
      ]
     },
     "execution_count": 7,
     "metadata": {},
     "output_type": "execute_result"
    }
   ],
   "source": [
    "model.fit(x_train,y_train,epochs=3)"
   ]
  },
  {
   "cell_type": "code",
   "execution_count": 8,
   "id": "toxic-split",
   "metadata": {},
   "outputs": [
    {
     "name": "stdout",
     "output_type": "stream",
     "text": [
      "313/313 [==============================] - 1s 3ms/step - loss: 0.0973 - accuracy: 0.9693\n",
      "loss: 0.09725848585367203, accuracy: 0.9692999720573425\n"
     ]
    }
   ],
   "source": [
    "val_loss, val_acc = model.evaluate(x_test,y_test)\n",
    "print(f'loss: {val_loss}, accuracy: {val_acc}')"
   ]
  },
  {
   "cell_type": "markdown",
   "id": "phantom-double",
   "metadata": {},
   "source": [
    "## Save the model"
   ]
  },
  {
   "cell_type": "code",
   "execution_count": 9,
   "id": "sealed-gender",
   "metadata": {},
   "outputs": [],
   "source": [
    "model.save('mnist-tf-model.h5')"
   ]
  },
  {
   "cell_type": "markdown",
   "id": "loved-pizza",
   "metadata": {},
   "source": [
    "## Predict a random number from the testing data"
   ]
  },
  {
   "cell_type": "code",
   "execution_count": 10,
   "id": "altered-nancy",
   "metadata": {},
   "outputs": [],
   "source": [
    "loaded_model = tf.keras.models.load_model('mnist-tf-model.h5')"
   ]
  },
  {
   "cell_type": "code",
   "execution_count": 11,
   "id": "advanced-interaction",
   "metadata": {},
   "outputs": [],
   "source": [
    "random_idx = random.randint(0,len(x_test)-1)"
   ]
  },
  {
   "cell_type": "code",
   "execution_count": 12,
   "id": "consecutive-dressing",
   "metadata": {},
   "outputs": [],
   "source": [
    "predictions = loaded_model.predict([x_test])"
   ]
  },
  {
   "cell_type": "code",
   "execution_count": 13,
   "id": "usual-craft",
   "metadata": {},
   "outputs": [
    {
     "data": {
      "text/plain": [
       "array([5.4636467e-07, 1.1596034e-07, 1.5253447e-05, 8.1008039e-08,\n",
       "       9.9994934e-01, 3.8223132e-07, 9.2609616e-06, 4.1891931e-06,\n",
       "       1.8579500e-05, 2.3171510e-06], dtype=float32)"
      ]
     },
     "execution_count": 13,
     "metadata": {},
     "output_type": "execute_result"
    }
   ],
   "source": [
    "predictions[random_idx]"
   ]
  },
  {
   "cell_type": "code",
   "execution_count": 14,
   "id": "becoming-refund",
   "metadata": {},
   "outputs": [
    {
     "data": {
      "text/plain": [
       "4"
      ]
     },
     "execution_count": 14,
     "metadata": {},
     "output_type": "execute_result"
    },
    {
     "data": {
      "image/png": "[encoded data removed]",
      "text/plain": [
       "<Figure size 432x288 with 1 Axes>"
      ]
     },
     "metadata": {
      "needs_background": "light"
     },
     "output_type": "display_data"
    }
   ],
   "source": [
    "import numpy as np\n",
    "plt.imshow(x_test[random_idx],cmap = plt.cm.binary)\n",
    "np.argmax(predictions[random_idx])"
   ]
  },
  {
   "cell_type": "code",
   "execution_count": null,
   "id": "intellectual-converter",
   "metadata": {},
   "outputs": [],
   "source": []
  }
 ],
 "metadata": {
  "kernelspec": {
   "display_name": "Python 3",
   "language": "python",
   "name": "python3"
  },
  "language_info": {
   "codemirror_mode": {
    "name": "ipython",
    "version": 3
   },
   "file_extension": ".py",
   "mimetype": "text/x-python",
   "name": "python",
   "nbconvert_exporter": "python",
   "pygments_lexer": "ipython3",
   "version": "3.8.5"
  }
 },
 "nbformat": 4,
 "nbformat_minor": 5
}
